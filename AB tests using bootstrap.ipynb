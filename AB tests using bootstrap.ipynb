{
 "cells": [
  {
   "cell_type": "markdown",
   "id": "448525b1",
   "metadata": {},
   "source": [
    "Подключаем необходимые библиотеки"
   ]
  },
  {
   "cell_type": "code",
   "execution_count": 1,
   "id": "9d97f299",
   "metadata": {},
   "outputs": [],
   "source": [
    "import pandas as pd\n",
    "import numpy as np\n",
    "import seaborn as sns\n",
    "from bootstrapped import bootstrap as bs\n",
    "from bootstrapped import compare_functions as bs_compare\n",
    "from bootstrapped import stats_functions as bs_stats\n",
    "from scipy.stats import kstest\n",
    "from matplotlib import pyplot as plt\n",
    "from scipy.stats import shapiro\n",
    "alpha = 0.05"
   ]
  },
  {
   "cell_type": "markdown",
   "id": "4d614251",
   "metadata": {},
   "source": [
    "## Загрузка данных"
   ]
  },
  {
   "cell_type": "markdown",
   "id": "437e40f3",
   "metadata": {},
   "source": [
    "Получаем данные из файлов: данные по бакетам и по пользователям, и смотрим на них"
   ]
  },
  {
   "cell_type": "code",
   "execution_count": 2,
   "id": "beed10e4",
   "metadata": {},
   "outputs": [],
   "source": [
    "abt_by_bucket = pd.read_csv('hw_abt_2_bybucket.csv', sep = '\\t', index_col=0)\n",
    "abt_by_user = pd.read_csv('hw_abt_2_byuser.csv', sep = '\\t', index_col=0)"
   ]
  },
  {
   "cell_type": "code",
   "execution_count": 3,
   "id": "829d82e6",
   "metadata": {},
   "outputs": [
    {
     "data": {
      "text/html": [
       "<div>\n",
       "<style scoped>\n",
       "    .dataframe tbody tr th:only-of-type {\n",
       "        vertical-align: middle;\n",
       "    }\n",
       "\n",
       "    .dataframe tbody tr th {\n",
       "        vertical-align: top;\n",
       "    }\n",
       "\n",
       "    .dataframe thead th {\n",
       "        text-align: right;\n",
       "    }\n",
       "</style>\n",
       "<table border=\"1\" class=\"dataframe\">\n",
       "  <thead>\n",
       "    <tr style=\"text-align: right;\">\n",
       "      <th></th>\n",
       "      <th>metric_value</th>\n",
       "      <th>users</th>\n",
       "      <th>visits</th>\n",
       "      <th>churn_users</th>\n",
       "      <th>churn_visits</th>\n",
       "    </tr>\n",
       "    <tr>\n",
       "      <th>group_id</th>\n",
       "      <th></th>\n",
       "      <th></th>\n",
       "      <th></th>\n",
       "      <th></th>\n",
       "      <th></th>\n",
       "    </tr>\n",
       "  </thead>\n",
       "  <tbody>\n",
       "    <tr>\n",
       "      <th>1</th>\n",
       "      <td>1875345.0</td>\n",
       "      <td>155</td>\n",
       "      <td>1419</td>\n",
       "      <td>151</td>\n",
       "      <td>2207</td>\n",
       "    </tr>\n",
       "    <tr>\n",
       "      <th>2</th>\n",
       "      <td>1662237.0</td>\n",
       "      <td>138</td>\n",
       "      <td>1320</td>\n",
       "      <td>127</td>\n",
       "      <td>1853</td>\n",
       "    </tr>\n",
       "    <tr>\n",
       "      <th>3</th>\n",
       "      <td>1784372.0</td>\n",
       "      <td>128</td>\n",
       "      <td>1281</td>\n",
       "      <td>159</td>\n",
       "      <td>2032</td>\n",
       "    </tr>\n",
       "    <tr>\n",
       "      <th>4</th>\n",
       "      <td>1876826.0</td>\n",
       "      <td>163</td>\n",
       "      <td>1644</td>\n",
       "      <td>168</td>\n",
       "      <td>2172</td>\n",
       "    </tr>\n",
       "    <tr>\n",
       "      <th>5</th>\n",
       "      <td>1913180.0</td>\n",
       "      <td>156</td>\n",
       "      <td>1675</td>\n",
       "      <td>174</td>\n",
       "      <td>2273</td>\n",
       "    </tr>\n",
       "  </tbody>\n",
       "</table>\n",
       "</div>"
      ],
      "text/plain": [
       "          metric_value  users  visits  churn_users  churn_visits\n",
       "group_id                                                        \n",
       "1            1875345.0    155    1419          151          2207\n",
       "2            1662237.0    138    1320          127          1853\n",
       "3            1784372.0    128    1281          159          2032\n",
       "4            1876826.0    163    1644          168          2172\n",
       "5            1913180.0    156    1675          174          2273"
      ]
     },
     "execution_count": 3,
     "metadata": {},
     "output_type": "execute_result"
    }
   ],
   "source": [
    "abt_by_bucket.head()"
   ]
  },
  {
   "cell_type": "code",
   "execution_count": 4,
   "id": "2626cc24",
   "metadata": {},
   "outputs": [
    {
     "data": {
      "text/html": [
       "<div>\n",
       "<style scoped>\n",
       "    .dataframe tbody tr th:only-of-type {\n",
       "        vertical-align: middle;\n",
       "    }\n",
       "\n",
       "    .dataframe tbody tr th {\n",
       "        vertical-align: top;\n",
       "    }\n",
       "\n",
       "    .dataframe thead th {\n",
       "        text-align: right;\n",
       "    }\n",
       "</style>\n",
       "<table border=\"1\" class=\"dataframe\">\n",
       "  <thead>\n",
       "    <tr style=\"text-align: right;\">\n",
       "      <th></th>\n",
       "      <th>group_id</th>\n",
       "      <th>metric_value</th>\n",
       "      <th>users</th>\n",
       "      <th>visits</th>\n",
       "      <th>churn_users</th>\n",
       "      <th>churn_visits</th>\n",
       "      <th>group</th>\n",
       "    </tr>\n",
       "  </thead>\n",
       "  <tbody>\n",
       "    <tr>\n",
       "      <th>0</th>\n",
       "      <td>8</td>\n",
       "      <td>6630.000</td>\n",
       "      <td>0</td>\n",
       "      <td>0</td>\n",
       "      <td>0</td>\n",
       "      <td>8</td>\n",
       "      <td>A</td>\n",
       "    </tr>\n",
       "    <tr>\n",
       "      <th>1</th>\n",
       "      <td>13</td>\n",
       "      <td>6933.976</td>\n",
       "      <td>0</td>\n",
       "      <td>0</td>\n",
       "      <td>1</td>\n",
       "      <td>6</td>\n",
       "      <td>B</td>\n",
       "    </tr>\n",
       "    <tr>\n",
       "      <th>2</th>\n",
       "      <td>10</td>\n",
       "      <td>8261.976</td>\n",
       "      <td>1</td>\n",
       "      <td>10</td>\n",
       "      <td>1</td>\n",
       "      <td>8</td>\n",
       "      <td>B</td>\n",
       "    </tr>\n",
       "    <tr>\n",
       "      <th>3</th>\n",
       "      <td>4</td>\n",
       "      <td>5522.000</td>\n",
       "      <td>1</td>\n",
       "      <td>9</td>\n",
       "      <td>1</td>\n",
       "      <td>7</td>\n",
       "      <td>A</td>\n",
       "    </tr>\n",
       "    <tr>\n",
       "      <th>4</th>\n",
       "      <td>16</td>\n",
       "      <td>5075.976</td>\n",
       "      <td>1</td>\n",
       "      <td>6</td>\n",
       "      <td>0</td>\n",
       "      <td>8</td>\n",
       "      <td>B</td>\n",
       "    </tr>\n",
       "  </tbody>\n",
       "</table>\n",
       "</div>"
      ],
      "text/plain": [
       "   group_id  metric_value  users  visits  churn_users  churn_visits group\n",
       "0         8      6630.000      0       0            0             8     A\n",
       "1        13      6933.976      0       0            1             6     B\n",
       "2        10      8261.976      1      10            1             8     B\n",
       "3         4      5522.000      1       9            1             7     A\n",
       "4        16      5075.976      1       6            0             8     B"
      ]
     },
     "execution_count": 4,
     "metadata": {},
     "output_type": "execute_result"
    }
   ],
   "source": [
    "abt_by_user.head()"
   ]
  },
  {
   "cell_type": "markdown",
   "id": "63821926",
   "metadata": {},
   "source": [
    "Как и в предыдущем ДЗ, отфильтруем строки, которые кажутся недостоверными: те, в которых сумма целевых действий имеет какое-то значение при нуле целевых сессий и пользователей, совершивших данные действия"
   ]
  },
  {
   "cell_type": "code",
   "execution_count": 14,
   "id": "3b45abd4",
   "metadata": {},
   "outputs": [],
   "source": [
    "abt_by_user = abt_by_user[abt_by_user['visits']!=0]"
   ]
  },
  {
   "cell_type": "markdown",
   "id": "9d284d14",
   "metadata": {},
   "source": [
    "Выделяем отдельно данные по группе А и по группе B <br>\n",
    "Затем выделяем данные столбца metric_value для дальнейшего исследования на нормальность и дисперсию <br>\n",
    "Также сразу смотрим на гистограммы полученных выборок"
   ]
  },
  {
   "cell_type": "code",
   "execution_count": 15,
   "id": "84bbb855",
   "metadata": {},
   "outputs": [],
   "source": [
    "A_distr = abt_by_user[abt_by_user.group=='A']\n",
    "B_distr = abt_by_user[abt_by_user.group=='B']"
   ]
  },
  {
   "cell_type": "markdown",
   "id": "8ab112ce",
   "metadata": {},
   "source": [
    "# Анализ метрики metric_value"
   ]
  },
  {
   "cell_type": "code",
   "execution_count": 16,
   "id": "b5748426",
   "metadata": {},
   "outputs": [],
   "source": [
    "A_distr_metric = A_distr.metric_value\n",
    "B_distr_metric = B_distr.metric_value"
   ]
  },
  {
   "cell_type": "code",
   "execution_count": 17,
   "id": "e1b338b6",
   "metadata": {},
   "outputs": [
    {
     "data": {
      "text/plain": [
       "<AxesSubplot:xlabel='metric_value', ylabel='Count'>"
      ]
     },
     "execution_count": 17,
     "metadata": {},
     "output_type": "execute_result"
    },
    {
     "data": {
      "image/png": "[encoded data removed]",
      "text/plain": [
       "<Figure size 432x288 with 1 Axes>"
      ]
     },
     "metadata": {
      "needs_background": "light"
     },
     "output_type": "display_data"
    }
   ],
   "source": [
    "sns.histplot(data=A_distr_metric, kde=True)"
   ]
  },
  {
   "cell_type": "code",
   "execution_count": 18,
   "id": "d8870a88",
   "metadata": {},
   "outputs": [
    {
     "data": {
      "text/plain": [
       "<AxesSubplot:xlabel='metric_value', ylabel='Count'>"
      ]
     },
     "execution_count": 18,
     "metadata": {},
     "output_type": "execute_result"
    },
    {
     "data": {
      "image/png": "[encoded data removed]",
      "text/plain": [
       "<Figure size 432x288 with 1 Axes>"
      ]
     },
     "metadata": {
      "needs_background": "light"
     },
     "output_type": "display_data"
    }
   ],
   "source": [
    "sns.histplot(data=B_distr_metric, kde=True)"
   ]
  },
  {
   "cell_type": "markdown",
   "id": "a7b23ef3",
   "metadata": {},
   "source": [
    "## Проверка на нормальность"
   ]
  },
  {
   "cell_type": "markdown",
   "id": "919e7c6c",
   "metadata": {},
   "source": [
    "Из прошлого дз знаем, что сама выборка не нормально распределена, поэтому сгенерируем бутстрапированные подвыборки, и посчитаем на них среднее, получаем уже нормальное распределение. <br>\n",
    "Нормальность проверяем при помощи критерия Колмогорова, так как в каждой выборке вышло более, чем 5000 значений, и сравниваем наши распределения с сгенерированными нормальными с теми же мат. ожиданиями и дисперсией, чтобы получить правдивый результат."
   ]
  },
  {
   "cell_type": "code",
   "execution_count": 19,
   "id": "be1d53b5",
   "metadata": {},
   "outputs": [],
   "source": [
    "bs_data_a = bs.bootstrap(np.array(A_distr_metric),\n",
    "stat_func=bs_stats.mean, num_iterations=10000,\n",
    "iteration_batch_size=300,\n",
    "return_distribution=True)"
   ]
  },
  {
   "cell_type": "code",
   "execution_count": 20,
   "id": "129ba1c5",
   "metadata": {},
   "outputs": [
    {
     "data": {
      "text/plain": [
       "<AxesSubplot:ylabel='Count'>"
      ]
     },
     "execution_count": 20,
     "metadata": {},
     "output_type": "execute_result"
    },
    {
     "data": {
      "image/png": "[encoded data removed]",
      "text/plain": [
       "<Figure size 432x288 with 1 Axes>"
      ]
     },
     "metadata": {
      "needs_background": "light"
     },
     "output_type": "display_data"
    }
   ],
   "source": [
    "sns.histplot(data=bs_data_a, kde=True)"
   ]
  },
  {
   "cell_type": "code",
   "execution_count": 21,
   "id": "ac5ab5fa",
   "metadata": {},
   "outputs": [],
   "source": [
    "bs_data_b = bs.bootstrap(np.array(B_distr_metric),\n",
    "stat_func=bs_stats.mean, num_iterations=10000,\n",
    "iteration_batch_size=300,\n",
    "return_distribution=True)"
   ]
  },
  {
   "cell_type": "code",
   "execution_count": 22,
   "id": "b38736b6",
   "metadata": {},
   "outputs": [
    {
     "data": {
      "text/plain": [
       "<AxesSubplot:ylabel='Count'>"
      ]
     },
     "execution_count": 22,
     "metadata": {},
     "output_type": "execute_result"
    },
    {
     "data": {
      "image/png": "[encoded data removed]",
      "text/plain": [
       "<Figure size 432x288 with 1 Axes>"
      ]
     },
     "metadata": {
      "needs_background": "light"
     },
     "output_type": "display_data"
    }
   ],
   "source": [
    "sns.histplot(data=bs_data_b, kde=True)"
   ]
  },
  {
   "cell_type": "code",
   "execution_count": 23,
   "id": "cb4860b8",
   "metadata": {},
   "outputs": [
    {
     "name": "stdout",
     "output_type": "stream",
     "text": [
      "Distributions is normal\n",
      "\n"
     ]
    }
   ],
   "source": [
    "series = (np.random.normal(loc=bs_data_a.mean(),scale=bs_data_a.std(),size=1000)).astype(int)\n",
    "st = kstest(bs_data_a, pd.Series(series))\n",
    "print('Distributions is {}normal\\n'.format( {True:'not ',False:''}[st[1] < alpha]))"
   ]
  },
  {
   "cell_type": "code",
   "execution_count": 24,
   "id": "2dde578f",
   "metadata": {},
   "outputs": [
    {
     "name": "stdout",
     "output_type": "stream",
     "text": [
      "Distributions is normal\n",
      "\n"
     ]
    }
   ],
   "source": [
    "series = (np.random.normal(loc=bs_data_b.mean(),scale=bs_data_b.std(),size=1000)).astype(int)\n",
    "st = kstest(bs_data_b, pd.Series(series))\n",
    "print('Distributions is {}normal\\n'.format( {True:'not ',False:''}[st[1] < alpha]))"
   ]
  },
  {
   "cell_type": "markdown",
   "id": "4abc0a93",
   "metadata": {},
   "source": [
    "Видим, что в таком случае распределения действительно нормальные, а также что дипазон средних в группе B лежит правее, чем в группе A, можем предположить, что есть какие то изменения. Проверим стат. значимость этих изменений "
   ]
  },
  {
   "cell_type": "markdown",
   "id": "53292854",
   "metadata": {},
   "source": [
    "## Проверка равенства дисперсий"
   ]
  },
  {
   "cell_type": "markdown",
   "id": "5b5766db",
   "metadata": {},
   "source": [
    "Сравниваем дисперсии данных распределений на этот раз при помощи бутстрапа. Оцениваем их различие при помощи перцентилей, полученных методом bootstrap_ab. Также смотрим на эту разницу двумя способами: с помощью percent_change и ratio. <br>"
   ]
  },
  {
   "cell_type": "code",
   "execution_count": 27,
   "id": "01e777e9",
   "metadata": {},
   "outputs": [],
   "source": [
    "bs_ab_stds_proc = bs.bootstrap_ab(np.array(A_distr_metric), np.array(B_distr_metric),\n",
    "bs_stats.std,\n",
    "bs_compare.percent_change, num_iterations=5000, alpha=0.05,\n",
    "iteration_batch_size=100, scale_test_by=1)"
   ]
  },
  {
   "cell_type": "code",
   "execution_count": 28,
   "id": "d6ef8d96",
   "metadata": {},
   "outputs": [
    {
     "data": {
      "text/plain": [
       "2.597922847386527    (-2.551394619957547, 7.585826537473316)"
      ]
     },
     "execution_count": 28,
     "metadata": {},
     "output_type": "execute_result"
    }
   ],
   "source": [
    "bs_ab_stds_proc"
   ]
  },
  {
   "cell_type": "code",
   "execution_count": 29,
   "id": "03e561ae",
   "metadata": {},
   "outputs": [],
   "source": [
    "bs_ab_stds_rat = bs.bootstrap_ab(np.array(A_distr_metric), np.array(B_distr_metric),\n",
    "bs_stats.std,\n",
    "bs_compare.ratio, num_iterations=5000, alpha=0.05,\n",
    "iteration_batch_size=100, scale_test_by=1)"
   ]
  },
  {
   "cell_type": "code",
   "execution_count": 30,
   "id": "bc8c8e3f",
   "metadata": {},
   "outputs": [
    {
     "data": {
      "text/plain": [
       "1.0259792284738654    (0.9771587282618499, 1.074564915307743)"
      ]
     },
     "execution_count": 30,
     "metadata": {},
     "output_type": "execute_result"
    }
   ],
   "source": [
    "bs_ab_stds_rat"
   ]
  },
  {
   "cell_type": "markdown",
   "id": "2015c999",
   "metadata": {},
   "source": [
    "Видим, что интервал percent_change немного смещен влево, но содержит в себе 0. А ratio имеет более узкий диапазон и сосредоточен возле 1. Это может говорить о том, что дисперсии если и различаются, то не значимо. <br>\n",
    "Это еще раз подтверждает то, что получили в предыдущем домашнем задании: дисперсии равны"
   ]
  },
  {
   "cell_type": "markdown",
   "id": "ae2684fb",
   "metadata": {},
   "source": [
    "Визуализируем полученные результаты для лучшего понимания"
   ]
  },
  {
   "cell_type": "code",
   "execution_count": 31,
   "id": "8e40c37a",
   "metadata": {},
   "outputs": [],
   "source": [
    "bs_ab_stds_proc = bs.bootstrap_ab(np.array(A_distr_metric), np.array(B_distr_metric),\n",
    "bs_stats.std,\n",
    "bs_compare.percent_change, num_iterations=5000, alpha=0.05,\n",
    "iteration_batch_size=100, scale_test_by=1, return_distribution=True)"
   ]
  },
  {
   "cell_type": "code",
   "execution_count": 32,
   "id": "645731ff",
   "metadata": {},
   "outputs": [
    {
     "data": {
      "text/plain": [
       "<AxesSubplot:ylabel='Count'>"
      ]
     },
     "execution_count": 32,
     "metadata": {},
     "output_type": "execute_result"
    },
    {
     "data": {
      "image/png": "[encoded data removed]",
      "text/plain": [
       "<Figure size 432x288 with 1 Axes>"
      ]
     },
     "metadata": {
      "needs_background": "light"
     },
     "output_type": "display_data"
    }
   ],
   "source": [
    "sns.histplot(data=bs_ab_stds_proc, kde=True)"
   ]
  },
  {
   "cell_type": "code",
   "execution_count": 34,
   "id": "3c911886",
   "metadata": {},
   "outputs": [
    {
     "data": {
      "image/png": "[encoded data removed]",
      "text/plain": [
       "<Figure size 432x288 with 1 Axes>"
      ]
     },
     "metadata": {
      "needs_background": "light"
     },
     "output_type": "display_data"
    }
   ],
   "source": [
    "plt.boxplot(bs_ab_stds_proc)\n",
    "plt.title('Различия дисперсий')\n",
    "plt.show()"
   ]
  },
  {
   "cell_type": "markdown",
   "id": "e87c24aa",
   "metadata": {},
   "source": [
    "## Проверка стат. значимости"
   ]
  },
  {
   "cell_type": "code",
   "execution_count": 35,
   "id": "8cccb8b1",
   "metadata": {},
   "outputs": [],
   "source": [
    "bs_ab_means = bs.bootstrap_ab(np.array(B_distr_metric), np.array(A_distr_metric), \n",
    "bs_stats.mean,\n",
    "bs_compare.percent_change, num_iterations=5000, alpha=0.05,\n",
    "iteration_batch_size=100, scale_test_by=1)"
   ]
  },
  {
   "cell_type": "code",
   "execution_count": 36,
   "id": "13b90421",
   "metadata": {},
   "outputs": [
    {
     "data": {
      "text/plain": [
       "7.085852821612181    (4.616750195589772, 9.38294152752714)"
      ]
     },
     "execution_count": 36,
     "metadata": {},
     "output_type": "execute_result"
    }
   ],
   "source": [
    "bs_ab_means"
   ]
  },
  {
   "cell_type": "markdown",
   "id": "afe7c218",
   "metadata": {},
   "source": [
    "Видим, что данный диапазон не содержит в себе 0, также видим, что нижняя граница указывает значение, близкое к 5 процентам, то есть полученное изменение можно считать значимым, что подтверждает полученные в прошлом дз результаты <br> \n",
    "Также сразу видим, какой именно класс имеет большие значения, в данном случае, класс В"
   ]
  },
  {
   "cell_type": "code",
   "execution_count": 38,
   "id": "d0053700",
   "metadata": {},
   "outputs": [],
   "source": [
    "bs_ab_means = bs.bootstrap_ab(np.array(B_distr_metric), np.array(A_distr_metric), \n",
    "bs_stats.mean,\n",
    "bs_compare.difference, num_iterations=5000, alpha=0.05,\n",
    "iteration_batch_size=100, scale_test_by=1)"
   ]
  },
  {
   "cell_type": "code",
   "execution_count": 39,
   "id": "95a5ddbb",
   "metadata": {},
   "outputs": [
    {
     "data": {
      "text/plain": [
       "426.31475457875604    (278.2806590619548, 568.0819179805719)"
      ]
     },
     "execution_count": 39,
     "metadata": {},
     "output_type": "execute_result"
    }
   ],
   "source": [
    "bs_ab_means"
   ]
  },
  {
   "cell_type": "markdown",
   "id": "ecce6142",
   "metadata": {},
   "source": [
    "Также можем оценить численно различия в группах, в среднем видим  ≈ 400 прирост целевых действий"
   ]
  },
  {
   "cell_type": "markdown",
   "id": "d89eb16e",
   "metadata": {},
   "source": [
    "Изобразим это на гистограмме и диаграмме размаха для лучшей визуализации"
   ]
  },
  {
   "cell_type": "code",
   "execution_count": 40,
   "id": "a19e0d03",
   "metadata": {},
   "outputs": [],
   "source": [
    "bs_ab_means = bs.bootstrap_ab(np.array(B_distr_metric), np.array(A_distr_metric), \n",
    "bs_stats.mean,\n",
    "bs_compare.percent_change, num_iterations=5000, alpha=0.05,\n",
    "iteration_batch_size=100, scale_test_by=1, return_distribution=True)"
   ]
  },
  {
   "cell_type": "code",
   "execution_count": 41,
   "id": "016033c5",
   "metadata": {},
   "outputs": [
    {
     "data": {
      "text/plain": [
       "<AxesSubplot:ylabel='Count'>"
      ]
     },
     "execution_count": 41,
     "metadata": {},
     "output_type": "execute_result"
    },
    {
     "data": {
      "image/png": "[encoded data removed]",
      "text/plain": [
       "<Figure size 432x288 with 1 Axes>"
      ]
     },
     "metadata": {
      "needs_background": "light"
     },
     "output_type": "display_data"
    }
   ],
   "source": [
    "sns.histplot(data=bs_ab_means, kde=True)"
   ]
  },
  {
   "cell_type": "code",
   "execution_count": 42,
   "id": "3a866d8d",
   "metadata": {},
   "outputs": [
    {
     "data": {
      "image/png": "[encoded data removed]",
      "text/plain": [
       "<Figure size 432x288 with 1 Axes>"
      ]
     },
     "metadata": {
      "needs_background": "light"
     },
     "output_type": "display_data"
    }
   ],
   "source": [
    "plt.boxplot(bs_ab_means)\n",
    "plt.title('Различия средних классов')\n",
    "plt.show()"
   ]
  },
  {
   "cell_type": "markdown",
   "id": "832b6d4b",
   "metadata": {},
   "source": [
    "# Анализ метрики churn_users"
   ]
  },
  {
   "cell_type": "code",
   "execution_count": 6,
   "id": "65a4e588",
   "metadata": {},
   "outputs": [],
   "source": [
    "A_distr_churn_us = abt_by_bucket.iloc[0:8].churn_users\n",
    "B_distr_churn_us = abt_by_bucket.iloc[8:].churn_users"
   ]
  },
  {
   "cell_type": "code",
   "execution_count": 7,
   "id": "2476adf1",
   "metadata": {},
   "outputs": [
    {
     "data": {
      "text/plain": [
       "<AxesSubplot:xlabel='churn_users', ylabel='Count'>"
      ]
     },
     "execution_count": 7,
     "metadata": {},
     "output_type": "execute_result"
    },
    {
     "data": {
      "image/png": "[encoded data removed]",
      "text/plain": [
       "<Figure size 432x288 with 1 Axes>"
      ]
     },
     "metadata": {
      "needs_background": "light"
     },
     "output_type": "display_data"
    }
   ],
   "source": [
    "sns.histplot(data=A_distr_churn_us, kde=True)"
   ]
  },
  {
   "cell_type": "code",
   "execution_count": 8,
   "id": "cd091abc",
   "metadata": {},
   "outputs": [
    {
     "data": {
      "text/plain": [
       "<AxesSubplot:xlabel='churn_users', ylabel='Count'>"
      ]
     },
     "execution_count": 8,
     "metadata": {},
     "output_type": "execute_result"
    },
    {
     "data": {
      "image/png": "[encoded data removed]",
      "text/plain": [
       "<Figure size 432x288 with 1 Axes>"
      ]
     },
     "metadata": {
      "needs_background": "light"
     },
     "output_type": "display_data"
    }
   ],
   "source": [
    "sns.histplot(data=B_distr_churn_us, kde=True)"
   ]
  },
  {
   "cell_type": "markdown",
   "id": "2de47518",
   "metadata": {},
   "source": [
    "## Проверка на нормальность"
   ]
  },
  {
   "cell_type": "markdown",
   "id": "d6b89170",
   "metadata": {},
   "source": [
    "Для всего 8 значений в каждой выборке нет смысла делать бутстрапированные подвыборки, к тому же наши изначальные выборки получились нормальными, поэтому просто еще раз проверим их на нормальность"
   ]
  },
  {
   "cell_type": "code",
   "execution_count": 11,
   "id": "6d81b9a0",
   "metadata": {},
   "outputs": [
    {
     "name": "stdout",
     "output_type": "stream",
     "text": [
      "Распределение A нормальное\n",
      "\n"
     ]
    }
   ],
   "source": [
    "sh_a = shapiro(A_distr_churn_us)\n",
    "\n",
    "print('Распределение A {}нормальное\\n'.format( {True:'не ',False:''}[sh_a[1] < alpha]))"
   ]
  },
  {
   "cell_type": "code",
   "execution_count": 10,
   "id": "0ceb5f1a",
   "metadata": {},
   "outputs": [
    {
     "name": "stdout",
     "output_type": "stream",
     "text": [
      "Распределение A нормальное\n",
      "\n"
     ]
    }
   ],
   "source": [
    "sh_b = shapiro(B_distr_churn_us)\n",
    "\n",
    "print('Распределение A {}нормальное\\n'.format( {True:'не ',False:''}[sh_b[1] < alpha]))"
   ]
  },
  {
   "cell_type": "markdown",
   "id": "72bcb59e",
   "metadata": {},
   "source": [
    "Видим, что снова получили нормально распределенные выборки"
   ]
  },
  {
   "cell_type": "markdown",
   "id": "4ae0f6a5",
   "metadata": {},
   "source": [
    "## Проверка равенства дисперсий"
   ]
  },
  {
   "cell_type": "markdown",
   "id": "1b6bae78",
   "metadata": {},
   "source": [
    "Теперь проверим, действительно ли дисперсии равны, как это уже было получено"
   ]
  },
  {
   "cell_type": "code",
   "execution_count": 46,
   "id": "bd621a38",
   "metadata": {},
   "outputs": [],
   "source": [
    "bs_ab_stds_churn = bs.bootstrap_ab(np.array(B_distr_churn_us), np.array(A_distr_churn_us),\n",
    "bs_stats.std,\n",
    "bs_compare.percent_change, num_iterations=16, alpha=0.05,\n",
    "iteration_batch_size=6, scale_test_by=1)"
   ]
  },
  {
   "cell_type": "code",
   "execution_count": 47,
   "id": "fa481587",
   "metadata": {},
   "outputs": [
    {
     "data": {
      "text/plain": [
       "20.063374707348935    (-116.02119447195854, 80.46017369761428)"
      ]
     },
     "execution_count": 47,
     "metadata": {},
     "output_type": "execute_result"
    }
   ],
   "source": [
    "bs_ab_stds_churn"
   ]
  },
  {
   "cell_type": "code",
   "execution_count": 48,
   "id": "82f3390a",
   "metadata": {},
   "outputs": [],
   "source": [
    "bs_ab_stds_churn = bs.bootstrap_ab(np.array(B_distr_churn_us), np.array(A_distr_churn_us),\n",
    "bs_stats.std,\n",
    "bs_compare.percent_change, num_iterations=5000, alpha=0.05,\n",
    "iteration_batch_size=100, scale_test_by=1, return_distribution=True)"
   ]
  },
  {
   "cell_type": "code",
   "execution_count": 49,
   "id": "9be58380",
   "metadata": {},
   "outputs": [
    {
     "data": {
      "text/plain": [
       "<AxesSubplot:ylabel='Count'>"
      ]
     },
     "execution_count": 49,
     "metadata": {},
     "output_type": "execute_result"
    },
    {
     "data": {
      "image/png": "[encoded data removed]",
      "text/plain": [
       "<Figure size 432x288 with 1 Axes>"
      ]
     },
     "metadata": {
      "needs_background": "light"
     },
     "output_type": "display_data"
    }
   ],
   "source": [
    "sns.histplot(data=bs_ab_stds_churn, kde=True)"
   ]
  },
  {
   "cell_type": "code",
   "execution_count": 50,
   "id": "6657a7f9",
   "metadata": {},
   "outputs": [
    {
     "data": {
      "image/png": "[encoded data removed]",
      "text/plain": [
       "<Figure size 432x288 with 1 Axes>"
      ]
     },
     "metadata": {
      "needs_background": "light"
     },
     "output_type": "display_data"
    }
   ],
   "source": [
    "plt.boxplot(bs_ab_stds_churn)\n",
    "plt.title('Различия дисперсий классов')\n",
    "plt.show()"
   ]
  },
  {
   "cell_type": "markdown",
   "id": "76f74722",
   "metadata": {},
   "source": [
    "Видим, что несмотря на отклонение в среднем от 0, разность дисперсий содержит в своем интервале 0, поэтому можем подтвердить то, что было посчитано в предыдущем дз, дисперсии действительно равны"
   ]
  },
  {
   "cell_type": "markdown",
   "id": "9f52cb2d",
   "metadata": {},
   "source": [
    "## Проверка стат. значимости"
   ]
  },
  {
   "cell_type": "markdown",
   "id": "8af970a3",
   "metadata": {},
   "source": [
    "Проверим, действительно ли различия в наших выборках статистически значимы"
   ]
  },
  {
   "cell_type": "code",
   "execution_count": 51,
   "id": "f03eb3d7",
   "metadata": {},
   "outputs": [],
   "source": [
    "bs_ab_means_churn = bs.bootstrap_ab(np.array(B_distr_churn_us), np.array(A_distr_churn_us), \n",
    "bs_stats.mean,\n",
    "bs_compare.percent_change, num_iterations=100, alpha=0.05,\n",
    "iteration_batch_size=10, scale_test_by=1)"
   ]
  },
  {
   "cell_type": "code",
   "execution_count": 52,
   "id": "7078e013",
   "metadata": {},
   "outputs": [
    {
     "data": {
      "text/plain": [
       "62.39870340356564    (51.17561835376789, 74.67827879097871)"
      ]
     },
     "execution_count": 52,
     "metadata": {},
     "output_type": "execute_result"
    }
   ],
   "source": [
    "bs_ab_means_churn"
   ]
  },
  {
   "cell_type": "code",
   "execution_count": 53,
   "id": "f42ac303",
   "metadata": {},
   "outputs": [],
   "source": [
    "bs_ab_means_churn = bs.bootstrap_ab(np.array(B_distr_churn_us), np.array(A_distr_churn_us), \n",
    "bs_stats.mean,\n",
    "bs_compare.percent_change, num_iterations=5000, alpha=0.05,\n",
    "iteration_batch_size=100, scale_test_by=1, return_distribution=True)"
   ]
  },
  {
   "cell_type": "code",
   "execution_count": 54,
   "id": "fcf925ae",
   "metadata": {},
   "outputs": [
    {
     "data": {
      "text/plain": [
       "<AxesSubplot:ylabel='Count'>"
      ]
     },
     "execution_count": 54,
     "metadata": {},
     "output_type": "execute_result"
    },
    {
     "data": {
      "image/png": "[encoded data removed]",
      "text/plain": [
       "<Figure size 432x288 with 1 Axes>"
      ]
     },
     "metadata": {
      "needs_background": "light"
     },
     "output_type": "display_data"
    }
   ],
   "source": [
    "sns.histplot(data=bs_ab_means_churn, kde=True)"
   ]
  },
  {
   "cell_type": "code",
   "execution_count": 55,
   "id": "2427fac2",
   "metadata": {},
   "outputs": [
    {
     "data": {
      "image/png": "[encoded data removed]",
      "text/plain": [
       "<Figure size 432x288 with 1 Axes>"
      ]
     },
     "metadata": {
      "needs_background": "light"
     },
     "output_type": "display_data"
    }
   ],
   "source": [
    "plt.boxplot(bs_ab_means_churn)\n",
    "plt.title('Различия средних классов')\n",
    "plt.show()"
   ]
  },
  {
   "cell_type": "markdown",
   "id": "fc8f346e",
   "metadata": {},
   "source": [
    "Видим, что средние отличаются на ≈ 60%, а также наш интервал разностей не содержит 0, тогда можем предположить, что различия действительно существенны"
   ]
  },
  {
   "cell_type": "markdown",
   "id": "962cad60",
   "metadata": {},
   "source": [
    "# Выводы"
   ]
  },
  {
   "cell_type": "markdown",
   "id": "3cfc0a9f",
   "metadata": {},
   "source": [
    "Проверяя полученные на предыдущем этапе выводы с помощью бутстрапа, получили те же самые результаты, \n",
    "а именно статистическую значимость различий классов в значениях metric_value и churn_users. <br>\n",
    "Это подтверждает верность различных критериев, использованных в предыдущем дз."
   ]
  },
  {
   "cell_type": "markdown",
   "id": "bdda90dd",
   "metadata": {},
   "source": [
    "При исследовании двух метрик выяснилось, что нововведение повлекло значимое увеличение числа целевых действий, \n",
    "однако также и значительный прирост пользователей, отказавшихся сделать заказ."
   ]
  },
  {
   "cell_type": "markdown",
   "id": "d803a649",
   "metadata": {},
   "source": [
    "На этом этапе стоит проанализировать, что в перспективе принесет больший доход: нововведение, увеличивающее охваты, либо же старый проверенный метод, который устраивает большее количество пользователей.\n",
    "Важно посмотреть, что это за пользователи: заказывали ли они ранее, или попали на какую-то популярную рекламу и заказывают впервые"
   ]
  },
  {
   "cell_type": "code",
   "execution_count": null,
   "id": "b1a13be4",
   "metadata": {},
   "outputs": [],
   "source": []
  }
 ],
 "metadata": {
  "kernelspec": {
   "display_name": "Python 3",
   "language": "python",
   "name": "python3"
  },
  "language_info": {
   "codemirror_mode": {
    "name": "ipython",
    "version": 3
   },
   "file_extension": ".py",
   "mimetype": "text/x-python",
   "name": "python",
   "nbconvert_exporter": "python",
   "pygments_lexer": "ipython3",
   "version": "3.8.8"
  }
 },
 "nbformat": 4,
 "nbformat_minor": 5
}
